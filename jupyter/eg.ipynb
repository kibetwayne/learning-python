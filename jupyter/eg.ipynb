{
 "cells": [
  {
   "cell_type": "code",
   "execution_count": 9,
   "metadata": {},
   "outputs": [
    {
     "name": "stdout",
     "output_type": "stream",
     "text": [
      "4\n"
     ]
    }
   ],
   "source": [
    "def find_missing_number(numbers):\n",
    "    n = len(numbers) + 1 \n",
    "    expected_sum = n * (n + 1) // 2 \n",
    "    actual_sum = sum(numbers)      \n",
    "    return expected_sum - actual_sum\n",
    "\n",
    "missing_number = find_missing_number([1,2,3,5])\n",
    "print(missing_number)\n"
   ]
  },
  {
   "cell_type": "code",
   "execution_count": null,
   "metadata": {},
   "outputs": [
    {
     "data": {
      "text/plain": [
       "'UGCA'"
      ]
     },
     "execution_count": 1,
     "metadata": {},
     "output_type": "execute_result"
    }
   ],
   "source": [
    "def transcribe_to_mrna(dna):\n",
    "    switch = {\n",
    "        'A': 'U',\n",
    "        'T': 'A',\n",
    "        'C': 'G',\n",
    "        'G': 'C'\n",
    "    }\n",
    "    mrna = []\n",
    "    for l in dna:\n",
    "        if l  not in switch:\n",
    "            continue\n",
    "        mrna.append(switch[l])\n",
    "    return ''.join(mrna)\n",
    "\n",
    "    \n",
    "\n",
    "transcribe_to_mrna('ACGT')"
   ]
  },
  {
   "cell_type": "code",
   "execution_count": null,
   "metadata": {},
   "outputs": [
    {
     "name": "stdout",
     "output_type": "stream",
     "text": [
      "3\n"
     ]
    }
   ],
   "source": [
    "import math\n",
    "def solve_exponential(base, result):\n",
    "    num = 0\n",
    "    while  result > 1:\n",
    "        if result % base != 0:\n",
    "            return -1  \n",
    "        result //= base   # result = result / base\n",
    "        num += 1\n",
    "        \n",
    "    return num\n",
    "\n",
    "print(solve_exponential(2, 8))"
   ]
  },
  {
   "cell_type": "code",
   "execution_count": 2,
   "metadata": {},
   "outputs": [
    {
     "name": "stdout",
     "output_type": "stream",
     "text": [
      "3\n"
     ]
    }
   ],
   "source": [
    "def solve_exponential(base, result):\n",
    "    answer = 1\n",
    "    while True:\n",
    "        if (base**answer == result):\n",
    "            return answer\n",
    "        answer += 1\n",
    "    \n",
    "print(solve_exponential(2,8))"
   ]
  },
  {
   "cell_type": "code",
   "execution_count": 5,
   "metadata": {},
   "outputs": [
    {
     "name": "stdout",
     "output_type": "stream",
     "text": [
      "array('i', [1, 2, 3, 4, 5, 6, 7, 8])\n",
      "array('i', [1, 10, 3, 4, 5, 6, 7, 8])\n",
      "array('i', [1, 10, 3, 4, 5, 6, 7, 8, 20, 30, 40, 50])\n",
      "array('i', [1, 10, 11, 3, 4, 5, 6, 7, 8, 20, 30, 40, 50])\n",
      "array('i', [1, 10, 11, 4, 5, 6, 7, 8, 20, 30, 40, 50])\n",
      "removing last element 50\n",
      "removing element by index 8\n",
      "array length 10\n",
      "array('i', [1, 10, 11, 4, 5, 6, 7, 20, 30, 40])\n"
     ]
    }
   ],
   "source": [
    "from array import *\n",
    "arr = array('i', [1, 2, 3, 4, 5, 6, 7])\n",
    "arr2 = array('i', [20, 30, 40, 50])\n",
    "\n",
    "'''basic array operations'''\n",
    "arr.append(8)\n",
    "print(arr)                       \n",
    "arr[1] = 10 \n",
    "print(arr)                            \n",
    "arr.extend(arr2)  \n",
    "print(arr)                      \n",
    "arr.insert(2, 11)   \n",
    "print(arr)                    \n",
    "arr.remove(3)    \n",
    "print(arr)                       \n",
    "print(f'removing last element {arr.pop()}')\n",
    "print(f'removing element by index {arr.pop(7)}')\n",
    "print(f'array length {len(arr)}')   \n",
    "print(arr)\n"
   ]
  },
  {
   "cell_type": "code",
   "execution_count": 2,
   "metadata": {},
   "outputs": [
    {
     "name": "stdout",
     "output_type": "stream",
     "text": [
      "W \n",
      "oW \n",
      "roW \n",
      "lroW \n",
      "dlroW \n"
     ]
    }
   ],
   "source": [
    "name = 'World'\n",
    "line = ' '\n",
    "for char in name:\n",
    "    line = char + line\n",
    "    print(line)"
   ]
  },
  {
   "cell_type": "code",
   "execution_count": 3,
   "metadata": {},
   "outputs": [
    {
     "name": "stdout",
     "output_type": "stream",
     "text": [
      "OK\n",
      "OK\n",
      "OK\n"
     ]
    }
   ],
   "source": [
    "def assert_equal(actual, expected):\n",
    "    if actual == expected:\n",
    "        print(\"OK\")\n",
    "    else:\n",
    "        print(f\"Error! {repr(actual)} != {repr(expected)}\")\n",
    "\n",
    "def invalid_image(filename):\n",
    "    return not( filename.endswith(\".png\") or  filename.endswith(\".jpg\"))\n",
    "\n",
    "assert_equal(invalid_image(\"dog.png\"), False)\n",
    "assert_equal(invalid_image(\"cat.jpg\"), False)\n",
    "assert_equal(invalid_image(\"invoice.pdf\"), True)"
   ]
  },
  {
   "cell_type": "code",
   "execution_count": null,
   "metadata": {},
   "outputs": [],
   "source": [
    "#diagonal winner in tic tac toe 3x3\n",
    "def assert_equal(actual, expected):\n",
    "    if actual == expected:\n",
    "        print(\"OK\")\n",
    "    else:\n",
    "        print(f\"Error! {repr(actual)} != {repr(expected)}\")\n",
    "\n",
    "def diagonal_winner(board):\n",
    "    diag1 = board[0][0] + board[1][1] + board[2][2]\n",
    "    diag2 = board[0][2] + board[1][1] + board[2][0]\n",
    "    return (\n",
    "        (diag1[0] == diag1[1] == diag1[2]) or \n",
    "        (diag2[0] == diag2[1] == diag2[2])\n",
    "        )\n",
    "\n",
    "assert_equal(\n",
    "    diagonal_winner(\n",
    "        [\n",
    "            ['X', 'O', 'X'],\n",
    "            ['X', 'X', 'O'],\n",
    "            ['O', 'O', 'X']\n",
    "        ]\n",
    "    ),\n",
    "    True\n",
    ")\n",
    "\n",
    "assert_equal(\n",
    "    diagonal_winner(\n",
    "        [\n",
    "            ['X', 'X', 'O'],\n",
    "            ['X', 'O', 'O'],\n",
    "            ['O', 'X', 'X']\n",
    "        ]\n",
    "    ),\n",
    "    True\n",
    ")\n",
    "\n",
    "assert_equal(\n",
    "    diagonal_winner(\n",
    "        [\n",
    "            ['O', 'X', 'O'],\n",
    "            ['X', 'X', 'X'],\n",
    "            ['O', 'O', 'X']\n",
    "        ]\n",
    "    ),\n",
    "    False\n",
    ")"
   ]
  },
  {
   "cell_type": "code",
   "execution_count": 4,
   "metadata": {},
   "outputs": [
    {
     "name": "stdout",
     "output_type": "stream",
     "text": [
      "OK\n",
      "OK\n"
     ]
    }
   ],
   "source": [
    "#horizontal winner in tic tac toe\n",
    "def assert_equal(actual, expected):\n",
    "    if actual == expected:\n",
    "        print(\"OK\")\n",
    "    else:\n",
    "        print(f\"Error! {repr(actual)} != {repr(expected)}\")\n",
    "        \n",
    "def row_winner(board):\n",
    "    for row in board:\n",
    "        status = True\n",
    "        first_entry = row[0]\n",
    "        for single_char in row:\n",
    "            if single_char == ' ' or first_entry != single_char:\n",
    "                status = False\n",
    "                break\n",
    "        if status:\n",
    "            return True\n",
    "    return False\n",
    "\n",
    "assert_equal(\n",
    "    row_winner(\n",
    "        [\n",
    "            ['A', 'A', 'B', 'A'],\n",
    "            [' ', ' ', ' ', ' '],\n",
    "            ['A', ' ', ' ', 'A'],\n",
    "            ['B', ' ', 'B', 'A']\n",
    "        ]\n",
    "    ),\n",
    "    False\n",
    ")\n",
    "assert_equal(\n",
    "    row_winner(\n",
    "        [\n",
    "            ['X', ' ', 'X'],\n",
    "            ['O', 'X', 'X'],\n",
    "            ['O', 'O', 'O']\n",
    "        ]\n",
    "    ),\n",
    "    True\n",
    ")"
   ]
  },
  {
   "cell_type": "code",
   "execution_count": null,
   "metadata": {},
   "outputs": [
    {
     "name": "stdout",
     "output_type": "stream",
     "text": [
      "OK\n"
     ]
    }
   ],
   "source": [
    "#column winner in tic tac toe\n",
    "def assert_equal(actual, expected):\n",
    "    if actual == expected:\n",
    "        print(\"OK\")\n",
    "    else:\n",
    "        print(f\"Error! {repr(actual)} != {repr(expected)}\")\n",
    "        \n",
    "def column_winner(board):\n",
    "    for col in range(len(board[0])):\n",
    "        status = True\n",
    "        first_entry = board[0][col]\n",
    "        for row in range(len(board)):\n",
    "            if board[row][col] == ' ' or first_entry != board[row][col]:\n",
    "                status = False\n",
    "                break\n",
    "        if status:\n",
    "            return True\n",
    "    return False\n",
    "\n",
    "assert_equal(\n",
    "    column_winner(\n",
    "        [\n",
    "            ['X', 'O', ' ', 'X'],\n",
    "            [' ', 'O', 'X', 'O'],\n",
    "            ['O', 'O', 'X', 'X'],\n",
    "            ['O', 'O', 'X', ' ']\n",
    "        ]    \n",
    "    ),\n",
    "    True                     \n",
    ")"
   ]
  },
  {
   "cell_type": "code",
   "execution_count": null,
   "metadata": {},
   "outputs": [
    {
     "name": "stdout",
     "output_type": "stream",
     "text": [
      "OK\n",
      "OK\n"
     ]
    }
   ],
   "source": [
    "#diagonal winner in tic tac toe\n",
    "def assert_equal(actual, expected):\n",
    "    if actual == expected:\n",
    "        print(\"OK\")\n",
    "    else:\n",
    "        print(f\"Error! {repr(actual)} != {repr(expected)}\")\n",
    "        \n",
    "def diagonal_winner(board):\n",
    "    first = board[0][0]\n",
    "    last = board[0][len(board)-1]\n",
    "    first1 = 1\n",
    "    first2 = len(board) - 2\n",
    "    status1 = True\n",
    "    status2 = True\n",
    "\n",
    "    \n",
    "    for i in range(len(board)):\n",
    "        if first != board[i][i] or first == ' ':\n",
    "            status1 = False\n",
    "            break\n",
    "        \n",
    "\n",
    "    for i in range(len(board) -1):\n",
    "        if last != board[first1][first2] or last == ' ':\n",
    "            status2 = False\n",
    "            break\n",
    "        first1 += 1\n",
    "        first2 -= 1\n",
    "    # diagonal1 = []\n",
    "    # diagonal2 = []\n",
    "    # for i in range(len(board)):\n",
    "    #     diagonal1.append(board[i][i])\n",
    "    #     diagonal2.append(board[i][-i-1])\n",
    "            \n",
    "    return status1 or status2\n",
    "\n",
    "\n",
    "\n",
    "assert_equal(\n",
    "    diagonal_winner(\n",
    "        [\n",
    "            ['1', '2', '3', '4'],\n",
    "            [' ', '1', 'X', ' '],\n",
    "            ['X', 'X', '1', 'X'],\n",
    "            ['X', ' ', 'O', '1']\n",
    "        ]\n",
    "    ),\n",
    "    True\n",
    ")\n",
    "\n",
    "assert_equal(\n",
    "    diagonal_winner(\n",
    "        [\n",
    "            ['1', '2', '3', '4'],\n",
    "            [' ', '1', 'X', ' '],\n",
    "            ['X', 'X', '1', 'X'],\n",
    "            ['X', ' ', 'O', ' ']\n",
    "        ]\n",
    "    ),\n",
    "    False\n",
    ")"
   ]
  },
  {
   "cell_type": "code",
   "execution_count": null,
   "metadata": {},
   "outputs": [
    {
     "name": "stdout",
     "output_type": "stream",
     "text": [
      "OK\n",
      "OK\n",
      "OK\n"
     ]
    }
   ],
   "source": [
    "#formating the board\n",
    "def assert_equal(actual, expected):\n",
    "    if actual == expected:\n",
    "        print(\"OK\")\n",
    "    else:\n",
    "        print(f\"Error! {repr(actual)} != {repr(expected)}\")\n",
    "\n",
    "def format_board(board):\n",
    "    row_strings = [\"|\".join(row) for row in board]\n",
    "\n",
    "    n = len(board[0])  \n",
    "\n",
    "    # Separator adapts perfectly to any width\n",
    "    separator = \"-+-\" + '+-'*(n - 2) \n",
    "    return f\"\\n{separator}\\n\".join(row_strings)\n",
    "\n",
    "\n",
    "# ✅ Test with 3x3\n",
    "assert_equal(\n",
    "    format_board([\n",
    "        ['X', 'O', 'X'],\n",
    "        ['O', ' ', ' '],\n",
    "        [' ', 'X', 'O']\n",
    "    ]),\n",
    "    'X|O|X\\n-+-+-\\nO| | \\n-+-+-\\n |X|O'\n",
    ")\n",
    "\n",
    "# ✅ Test with 4x4\n",
    "assert_equal(\n",
    "    format_board([\n",
    "        ['X','O','X','O'],\n",
    "        ['O','X',' ',' '],\n",
    "        ['X',' ','O',' '],\n",
    "        [' ','X','O','X']\n",
    "    ]),\n",
    "    'X|O|X|O\\n-+-+-+-\\nO|X| | \\n-+-+-+-\\nX| |O| \\n-+-+-+-\\n |X|O|X'\n",
    ")\n",
    "# ✅ Test with 5x5\n",
    "assert_equal(\n",
    "    format_board([\n",
    "        ['X','O','X','O','X'],\n",
    "        ['O','X',' ',' ','O'],\n",
    "        ['X',' ','O',' ','X'],\n",
    "        [' ','X','O','X',' '],\n",
    "        ['O',' ',' ','O','X']\n",
    "    ]),\n",
    "    'X|O|X|O|X\\n-+-+-+-+-\\nO|X| | |O\\n-+-+-+-+-\\nX| |O| |X\\n-+-+-+-+-\\n |X|O|X| \\n-+-+-+-+-\\nO| | |O|X'\n",
    ")"
   ]
  },
  {
   "cell_type": "code",
   "execution_count": null,
   "metadata": {},
   "outputs": [
    {
     "name": "stdout",
     "output_type": "stream",
     "text": [
      "OK\n"
     ]
    }
   ],
   "source": [
    "#row and column labels\n",
    "def format_board(board):\n",
    "    n = len(board[0])\n",
    "    header = \" \" + \"\".join(str(i+1) for i in range(n))  # 123\n",
    "\n",
    "    \n",
    "    rows = []\n",
    "    for i in range(len(board)):   \n",
    "        row_number = str(i+1)     # row label\n",
    "        row_content = \"\".join(board[i])\n",
    "        rows.append(row_number + row_content)\n",
    "        \n",
    "        \n",
    "    return  '\\n'.join([header] + rows)\n",
    "        \n",
    "assert_equal(\n",
    "    format_board([\n",
    "        ['X', 'O', 'X'],\n",
    "        ['O', ' ', ' '],\n",
    "        [' ', 'X', 'O']\n",
    "    ]),\n",
    "    ' 123\\n1XOX\\n2O  \\n3 XO'\n",
    ")"
   ]
  },
  {
   "cell_type": "code",
   "execution_count": null,
   "metadata": {},
   "outputs": [],
   "source": [
    "#asking for user input. ver1\n",
    "def format_board(board):\n",
    "    first_row = ' '\n",
    "    for i in range(len(board)):\n",
    "        first_row += str(i + 1)\n",
    "    joined_rows = [first_row]\n",
    "    for i in range(len(board)):\n",
    "        joined_row = str(i + 1) + ''.join(board[i])\n",
    "        joined_rows.append(joined_row)\n",
    "    return \"\\n\".join(joined_rows)\n",
    "\n",
    "def play_game():\n",
    "    board = [\n",
    "        [' ', ' ', ' '],\n",
    "        [' ', ' ', ' '],\n",
    "        [' ', ' ', ' '],\n",
    "    ]\n",
    "    print(format_board(board))\n",
    "    print('\\nX to play:\\n')\n",
    "    play_move(board, 'X')\n",
    "    print(format_board(board))\n",
    "    print('\\nO to play:\\n')\n",
    "    play_move(board, 'O')\n",
    "    print(format_board(board))\n",
    "\n",
    "def play_move(board, player):\n",
    "    row = int(input('what row do you want to play in?')) - 1\n",
    "    col = int(input('what column do you want to play in?')) - 1\n",
    "    \n",
    "    board[row][col] = player\n",
    "\n",
    "play_game()"
   ]
  },
  {
   "cell_type": "code",
   "execution_count": 4,
   "metadata": {},
   "outputs": [
    {
     "name": "stdout",
     "output_type": "stream",
     "text": [
      "OK\n",
      "OK\n"
     ]
    }
   ],
   "source": [
    "#making the board without hardcoding the size\n",
    "def assert_equal(actual, expected):\n",
    "    if actual == expected:\n",
    "        print(\"OK\")\n",
    "    else:\n",
    "        print(f\"Error! {repr(actual)} != {repr(expected)}\")\n",
    "\n",
    "def make_board(size):\n",
    "    board = []\n",
    "    for _ in range(size):\n",
    "        row = []\n",
    "        for _ in range(size):\n",
    "            row.append(' ')\n",
    "        board.append(row.copy())\n",
    "    return board\n",
    "\n",
    "def test():\n",
    "    board = make_board(3)\n",
    "    assert_equal(board, [\n",
    "        [' ', ' ', ' '],\n",
    "        [' ', ' ', ' '],\n",
    "        [' ', ' ', ' '],\n",
    "    ])\n",
    "    board[0][0] = 'X'\n",
    "    assert_equal(board, [\n",
    "        ['X', ' ', ' '],\n",
    "        [' ', ' ', ' '],\n",
    "        [' ', ' ', ' '],\n",
    "    ])\n",
    "\n",
    "test()"
   ]
  },
  {
   "cell_type": "code",
   "execution_count": null,
   "metadata": {},
   "outputs": [
    {
     "name": "stdout",
     "output_type": "stream",
     "text": [
      "{'Biology', 'Math', 'History', 'English'}\n",
      "{'Math': 3, 'English': 2, 'History': 2, 'Biology': 3}\n",
      "Bob\n",
      "Charlie\n"
     ]
    }
   ],
   "source": [
    "#You are given a list of students and the subjects they are enrolled in:\n",
    "students = [\n",
    "    {\"name\": \"Alice\", \"subjects\": [\"Math\", \"English\", \"History\"]},\n",
    "    {\"name\": \"Bob\", \"subjects\": [\"Math\", \"Biology\"]},\n",
    "    {\"name\": \"Charlie\", \"subjects\": [\"History\", \"Math\", \"Biology\"]},\n",
    "    {\"name\": \"Diana\", \"subjects\": [\"English\", \"Biology\"]},\n",
    "]\n",
    "#? 1. Make a set of all unique subjects across all students.\n",
    "unique_subjects = set()\n",
    "for student in students:\n",
    "    unique_subjects.update(student[\"subjects\"])\n",
    "\n",
    "print(unique_subjects)\n",
    "\n",
    "# subjects_list = []\n",
    "# unique_subjects = set()\n",
    "# for dictionary in students:\n",
    "#     subjects_list.append(dictionary[\"subjects\"])\n",
    " \n",
    "# all_sub = subjects_list\n",
    "# (flat_subjects_list) = [subject for sublist in all_sub for subject in sublist]\n",
    "# print(set(flat_subjects_list))\n",
    "\n",
    "#? 2. Create a dictionary mapping each subject → number of students taking it.\n",
    "subject_counts = {}\n",
    "for student in students:\n",
    "    for subject in student[\"subjects\"]:\n",
    "        if subject in subject_counts:\n",
    "            subject_counts[subject] += 1\n",
    "        else:\n",
    "            subject_counts[subject] = 1\n",
    "\n",
    "print(subject_counts)\n",
    "\n",
    "\n",
    "#? 3. find the students enrolled in both math and biology\n",
    "student = {}\n",
    "for dictionary in students:\n",
    "    if 'Math' in dictionary['subjects'] and 'Biology' in dictionary['subjects']:\n",
    "        print(dictionary['name'])"
   ]
  },
  {
   "cell_type": "code",
   "execution_count": 5,
   "metadata": {},
   "outputs": [
    {
     "ename": "KeyboardInterrupt",
     "evalue": "",
     "output_type": "error",
     "traceback": [
      "\u001b[1;31m---------------------------------------------------------------------------\u001b[0m",
      "\u001b[1;31mKeyboardInterrupt\u001b[0m                         Traceback (most recent call last)",
      "Cell \u001b[1;32mIn[5], line 2\u001b[0m\n\u001b[0;32m      1\u001b[0m \u001b[38;5;66;03m#while loop\u001b[39;00m\n\u001b[1;32m----> 2\u001b[0m i \u001b[38;5;241m=\u001b[39m \u001b[38;5;241;43m1\u001b[39;49m\n\u001b[0;32m      3\u001b[0m \u001b[38;5;28;01mwhile\u001b[39;00m i \u001b[38;5;241m<\u001b[39m\u001b[38;5;241m=\u001b[39m\u001b[38;5;241m5\u001b[39m:\n\u001b[0;32m      4\u001b[0m     \u001b[38;5;28mprint\u001b[39m(i)\n",
      "File \u001b[1;32m<stringsource>:69\u001b[0m, in \u001b[0;36mcfunc.to_py.__Pyx_CFunc_b0409f__29_pydevd_sys_monitoring_cython_object__lParen__etc_to_py_4code_4line.wrap\u001b[1;34m()\u001b[0m\n",
      "File \u001b[1;32m_pydevd_sys_monitoring\\\\_pydevd_sys_monitoring_cython.pyx:1465\u001b[0m, in \u001b[0;36m_pydevd_sys_monitoring_cython._line_event\u001b[1;34m()\u001b[0m\n",
      "File \u001b[1;32m_pydevd_sys_monitoring\\\\_pydevd_sys_monitoring_cython.pyx:1507\u001b[0m, in \u001b[0;36m_pydevd_sys_monitoring_cython._internal_line_event\u001b[1;34m()\u001b[0m\n",
      "File \u001b[1;32m_pydevd_sys_monitoring\\\\_pydevd_sys_monitoring_cython.pyx:1308\u001b[0m, in \u001b[0;36m_pydevd_sys_monitoring_cython._stop_on_breakpoint\u001b[1;34m()\u001b[0m\n",
      "File \u001b[1;32m_pydevd_sys_monitoring\\\\_pydevd_sys_monitoring_cython.pyx:1945\u001b[0m, in \u001b[0;36m_pydevd_sys_monitoring_cython._do_wait_suspend\u001b[1;34m()\u001b[0m\n",
      "File \u001b[1;32m~\\AppData\\Roaming\\Python\\Python312\\site-packages\\debugpy\\_vendored\\pydevd\\pydevd.py:2185\u001b[0m, in \u001b[0;36mPyDB.do_wait_suspend\u001b[1;34m(self, thread, frame, event, arg, exception_type)\u001b[0m\n\u001b[0;32m   2182\u001b[0m             from_this_thread\u001b[38;5;241m.\u001b[39mappend(frame_custom_thread_id)\n\u001b[0;32m   2184\u001b[0m     \u001b[38;5;28;01mwith\u001b[39;00m \u001b[38;5;28mself\u001b[39m\u001b[38;5;241m.\u001b[39m_threads_suspended_single_notification\u001b[38;5;241m.\u001b[39mnotify_thread_suspended(thread_id, thread, stop_reason):\n\u001b[1;32m-> 2185\u001b[0m         keep_suspended \u001b[38;5;241m=\u001b[39m \u001b[38;5;28;43mself\u001b[39;49m\u001b[38;5;241;43m.\u001b[39;49m\u001b[43m_do_wait_suspend\u001b[49m\u001b[43m(\u001b[49m\u001b[43mthread\u001b[49m\u001b[43m,\u001b[49m\u001b[43m \u001b[49m\u001b[43mframe\u001b[49m\u001b[43m,\u001b[49m\u001b[43m \u001b[49m\u001b[43mevent\u001b[49m\u001b[43m,\u001b[49m\u001b[43m \u001b[49m\u001b[43marg\u001b[49m\u001b[43m,\u001b[49m\u001b[43m \u001b[49m\u001b[43mtrace_suspend_type\u001b[49m\u001b[43m,\u001b[49m\u001b[43m \u001b[49m\u001b[43mfrom_this_thread\u001b[49m\u001b[43m,\u001b[49m\u001b[43m \u001b[49m\u001b[43mframes_tracker\u001b[49m\u001b[43m)\u001b[49m\n\u001b[0;32m   2187\u001b[0m frames_list \u001b[38;5;241m=\u001b[39m \u001b[38;5;28;01mNone\u001b[39;00m\n\u001b[0;32m   2189\u001b[0m \u001b[38;5;28;01mif\u001b[39;00m keep_suspended:\n\u001b[0;32m   2190\u001b[0m     \u001b[38;5;66;03m# This means that we should pause again after a set next statement.\u001b[39;00m\n",
      "File \u001b[1;32m~\\AppData\\Roaming\\Python\\Python312\\site-packages\\debugpy\\_vendored\\pydevd\\pydevd.py:2254\u001b[0m, in \u001b[0;36mPyDB._do_wait_suspend\u001b[1;34m(self, thread, frame, event, arg, trace_suspend_type, from_this_thread, frames_tracker)\u001b[0m\n\u001b[0;32m   2251\u001b[0m                 queue\u001b[38;5;241m.\u001b[39mput(internal_cmd)\n\u001b[0;32m   2252\u001b[0m                 wait_timeout \u001b[38;5;241m=\u001b[39m TIMEOUT_FAST\n\u001b[1;32m-> 2254\u001b[0m         \u001b[43mnotify_event\u001b[49m\u001b[38;5;241;43m.\u001b[39;49m\u001b[43mwait\u001b[49m\u001b[43m(\u001b[49m\u001b[43mwait_timeout\u001b[49m\u001b[43m)\u001b[49m\n\u001b[0;32m   2255\u001b[0m         notify_event\u001b[38;5;241m.\u001b[39mclear()\n\u001b[0;32m   2257\u001b[0m \u001b[38;5;28;01mfinally\u001b[39;00m:\n",
      "File \u001b[1;32mc:\\Users\\user\\AppData\\Local\\Programs\\Python\\Python312\\Lib\\threading.py:655\u001b[0m, in \u001b[0;36mEvent.wait\u001b[1;34m(self, timeout)\u001b[0m\n\u001b[0;32m    653\u001b[0m signaled \u001b[38;5;241m=\u001b[39m \u001b[38;5;28mself\u001b[39m\u001b[38;5;241m.\u001b[39m_flag\n\u001b[0;32m    654\u001b[0m \u001b[38;5;28;01mif\u001b[39;00m \u001b[38;5;129;01mnot\u001b[39;00m signaled:\n\u001b[1;32m--> 655\u001b[0m     signaled \u001b[38;5;241m=\u001b[39m \u001b[38;5;28;43mself\u001b[39;49m\u001b[38;5;241;43m.\u001b[39;49m\u001b[43m_cond\u001b[49m\u001b[38;5;241;43m.\u001b[39;49m\u001b[43mwait\u001b[49m\u001b[43m(\u001b[49m\u001b[43mtimeout\u001b[49m\u001b[43m)\u001b[49m\n\u001b[0;32m    656\u001b[0m \u001b[38;5;28;01mreturn\u001b[39;00m signaled\n",
      "File \u001b[1;32mc:\\Users\\user\\AppData\\Local\\Programs\\Python\\Python312\\Lib\\threading.py:359\u001b[0m, in \u001b[0;36mCondition.wait\u001b[1;34m(self, timeout)\u001b[0m\n\u001b[0;32m    357\u001b[0m \u001b[38;5;28;01melse\u001b[39;00m:\n\u001b[0;32m    358\u001b[0m     \u001b[38;5;28;01mif\u001b[39;00m timeout \u001b[38;5;241m>\u001b[39m \u001b[38;5;241m0\u001b[39m:\n\u001b[1;32m--> 359\u001b[0m         gotit \u001b[38;5;241m=\u001b[39m \u001b[43mwaiter\u001b[49m\u001b[38;5;241;43m.\u001b[39;49m\u001b[43macquire\u001b[49m\u001b[43m(\u001b[49m\u001b[38;5;28;43;01mTrue\u001b[39;49;00m\u001b[43m,\u001b[49m\u001b[43m \u001b[49m\u001b[43mtimeout\u001b[49m\u001b[43m)\u001b[49m\n\u001b[0;32m    360\u001b[0m     \u001b[38;5;28;01melse\u001b[39;00m:\n\u001b[0;32m    361\u001b[0m         gotit \u001b[38;5;241m=\u001b[39m waiter\u001b[38;5;241m.\u001b[39macquire(\u001b[38;5;28;01mFalse\u001b[39;00m)\n",
      "\u001b[1;31mKeyboardInterrupt\u001b[0m: "
     ]
    }
   ],
   "source": [
    "#while loop\n",
    "i = 1\n",
    "while i <=5:\n",
    "    print(i)\n",
    "    i += 1\n",
    "    \n",
    "q = 1\n",
    "\n",
    "print('------')\n",
    "\n",
    "while q <= 5:\n",
    "    if q == 3:\n",
    "        break\n",
    "    print(q)\n",
    "    q += 1\n",
    "    \n",
    "print('------')\n",
    "\n",
    "i = 0\n",
    "while i < 5:\n",
    "    i += 1\n",
    "    if i == 3:\n",
    "        print('three')\n",
    "        continue   # skip printing 3\n",
    "    print(i)\n",
    "\n"
   ]
  },
  {
   "cell_type": "code",
   "execution_count": null,
   "metadata": {},
   "outputs": [],
   "source": [
    "print('welcome to band name generator')\n",
    "city = input('which city did you grow up in?\\n')\n",
    "pet = input('what is your pet name?\\n')\n",
    "print(f'your band name could be {city} {pet}')"
   ]
  }
 ],
 "metadata": {
  "kernelspec": {
   "display_name": "Python 3",
   "language": "python",
   "name": "python3"
  },
  "language_info": {
   "codemirror_mode": {
    "name": "ipython",
    "version": 3
   },
   "file_extension": ".py",
   "mimetype": "text/x-python",
   "name": "python",
   "nbconvert_exporter": "python",
   "pygments_lexer": "ipython3",
   "version": "3.12.5"
  }
 },
 "nbformat": 4,
 "nbformat_minor": 2
}
