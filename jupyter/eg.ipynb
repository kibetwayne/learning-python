{
 "cells": [
  {
   "cell_type": "code",
   "execution_count": 6,
   "metadata": {},
   "outputs": [
    {
     "name": "stdout",
     "output_type": "stream",
     "text": [
      "4\n"
     ]
    }
   ],
   "source": [
    "def find_missing_number(numbers):\n",
    "    n = len(numbers) + 1 \n",
    "    expected_sum = n * (n + 1) // 2 \n",
    "    actual_sum = sum(numbers)      \n",
    "    return expected_sum - actual_sum\n",
    "\n",
    "missing_number = find_missing_number([1,2,3,5])\n",
    "print(missing_number)\n"
   ]
  },
  {
   "cell_type": "code",
   "execution_count": null,
   "metadata": {},
   "outputs": [
    {
     "data": {
      "text/plain": [
       "'UGCA'"
      ]
     },
     "execution_count": 19,
     "metadata": {},
     "output_type": "execute_result"
    }
   ],
   "source": [
    "def transcribe_to_mrna(dna):\n",
    "    switch = {\n",
    "        'A': 'U',\n",
    "        'T': 'A',\n",
    "        'C': 'G',\n",
    "        'G': 'C'\n",
    "    }\n",
    "    mrna = []\n",
    "    for l in dna:\n",
    "        if l  not in switch:\n",
    "            continue\n",
    "        mrna.append(switch[l])\n",
    "    return ''.join(mrna)\n",
    "\n",
    "    \n",
    "\n",
    "transcribe_to_mrna('ACGT')"
   ]
  }
 ],
 "metadata": {
  "kernelspec": {
   "display_name": "Python 3",
   "language": "python",
   "name": "python3"
  },
  "language_info": {
   "codemirror_mode": {
    "name": "ipython",
    "version": 3
   },
   "file_extension": ".py",
   "mimetype": "text/x-python",
   "name": "python",
   "nbconvert_exporter": "python",
   "pygments_lexer": "ipython3",
   "version": "3.13.0"
  }
 },
 "nbformat": 4,
 "nbformat_minor": 2
}
