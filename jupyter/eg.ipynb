{
 "cells": [
  {
   "cell_type": "code",
   "execution_count": 9,
   "metadata": {},
   "outputs": [
    {
     "name": "stdout",
     "output_type": "stream",
     "text": [
      "4\n"
     ]
    }
   ],
   "source": [
    "def find_missing_number(numbers):\n",
    "    n = len(numbers) + 1 \n",
    "    expected_sum = n * (n + 1) // 2 \n",
    "    actual_sum = sum(numbers)      \n",
    "    return expected_sum - actual_sum\n",
    "\n",
    "missing_number = find_missing_number([1,2,3,5])\n",
    "print(missing_number)\n"
   ]
  },
  {
   "cell_type": "code",
   "execution_count": 1,
   "metadata": {},
   "outputs": [
    {
     "data": {
      "text/plain": [
       "'UGCA'"
      ]
     },
     "execution_count": 1,
     "metadata": {},
     "output_type": "execute_result"
    }
   ],
   "source": [
    "def transcribe_to_mrna(dna):\n",
    "    switch = {\n",
    "        'A': 'U',\n",
    "        'T': 'A',\n",
    "        'C': 'G',\n",
    "        'G': 'C'\n",
    "    }\n",
    "    mrna = []\n",
    "    for l in dna:\n",
    "        if l  not in switch:\n",
    "            continue\n",
    "        mrna.append(switch[l])\n",
    "    return ''.join(mrna)\n",
    "\n",
    "    \n",
    "\n",
    "transcribe_to_mrna('ACGT')"
   ]
  },
  {
   "cell_type": "code",
   "execution_count": 6,
   "metadata": {},
   "outputs": [
    {
     "name": "stdout",
     "output_type": "stream",
     "text": [
      "3\n"
     ]
    }
   ],
   "source": [
    "import math\n",
    "def solve_exponential(base, result):\n",
    "    num = 0\n",
    "    while  result > 1:\n",
    "        if result % base != 0:\n",
    "            return -1  \n",
    "        result //= base   # result = result / base\n",
    "        num += 1\n",
    "        \n",
    "    return num\n",
    "\n",
    "print(solve_exponential(2, 8))"
   ]
  },
  {
   "cell_type": "code",
   "execution_count": 2,
   "metadata": {},
   "outputs": [
    {
     "name": "stdout",
     "output_type": "stream",
     "text": [
      "3\n"
     ]
    }
   ],
   "source": [
    "def solve_exponential(base, result):\n",
    "    answer = 1\n",
    "    while True:\n",
    "        if (base**answer == result):\n",
    "            return answer\n",
    "        answer += 1\n",
    "    \n",
    "print(solve_exponential(2,8))"
   ]
  },
  {
   "cell_type": "code",
   "execution_count": 5,
   "metadata": {},
   "outputs": [
    {
     "name": "stdout",
     "output_type": "stream",
     "text": [
      "array('i', [1, 2, 3, 4, 5, 6, 7, 8])\n",
      "array('i', [1, 10, 3, 4, 5, 6, 7, 8])\n",
      "array('i', [1, 10, 3, 4, 5, 6, 7, 8, 20, 30, 40, 50])\n",
      "array('i', [1, 10, 11, 3, 4, 5, 6, 7, 8, 20, 30, 40, 50])\n",
      "array('i', [1, 10, 11, 4, 5, 6, 7, 8, 20, 30, 40, 50])\n",
      "removing last element 50\n",
      "removing element by index 8\n",
      "array length 10\n",
      "array('i', [1, 10, 11, 4, 5, 6, 7, 20, 30, 40])\n"
     ]
    }
   ],
   "source": [
    "from array import *\n",
    "arr = array('i', [1, 2, 3, 4, 5, 6, 7])\n",
    "arr2 = array('i', [20, 30, 40, 50])\n",
    "\n",
    "'''basic array operations'''\n",
    "arr.append(8)\n",
    "print(arr)                       \n",
    "arr[1] = 10 \n",
    "print(arr)                            \n",
    "arr.extend(arr2)  \n",
    "print(arr)                      \n",
    "arr.insert(2, 11)   \n",
    "print(arr)                    \n",
    "arr.remove(3)    \n",
    "print(arr)                       \n",
    "print(f'removing last element {arr.pop()}')\n",
    "print(f'removing element by index {arr.pop(7)}')\n",
    "print(f'array length {len(arr)}')   \n",
    "print(arr)\n"
   ]
  },
  {
   "cell_type": "code",
   "execution_count": 2,
   "metadata": {},
   "outputs": [
    {
     "name": "stdout",
     "output_type": "stream",
     "text": [
      "W \n",
      "oW \n",
      "roW \n",
      "lroW \n",
      "dlroW \n"
     ]
    }
   ],
   "source": [
    "name = 'World'\n",
    "line = ' '\n",
    "for char in name:\n",
    "    line = char + line\n",
    "    print(line)"
   ]
  }
 ],
 "metadata": {
  "kernelspec": {
   "display_name": "Python 3",
   "language": "python",
   "name": "python3"
  },
  "language_info": {
   "codemirror_mode": {
    "name": "ipython",
    "version": 3
   },
   "file_extension": ".py",
   "mimetype": "text/x-python",
   "name": "python",
   "nbconvert_exporter": "python",
   "pygments_lexer": "ipython3",
   "version": "3.12.5"
  }
 },
 "nbformat": 4,
 "nbformat_minor": 2
}
